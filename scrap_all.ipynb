{
 "cells": [
  {
   "cell_type": "code",
   "execution_count": 76,
   "id": "b6392f95",
   "metadata": {},
   "outputs": [],
   "source": [
    "import requests"
   ]
  },
  {
   "cell_type": "code",
   "execution_count": 81,
   "id": "3fdcb74d",
   "metadata": {},
   "outputs": [
    {
     "name": "stderr",
     "output_type": "stream",
     "text": [
      "2022-08-21 07:19:44 [urllib3.connectionpool] DEBUG: Starting new HTTPS connection (1): www.skillshare.com:443\n",
      "2022-08-21 07:19:44 [urllib3.connectionpool] DEBUG: https://www.skillshare.com:443 \"GET /search?query=backend HTTP/1.1\" 403 None\n"
     ]
    }
   ],
   "source": [
    "html = requests.get('https://www.skillshare.com/search?query=backend')"
   ]
  },
  {
   "cell_type": "code",
   "execution_count": 82,
   "id": "53414d88",
   "metadata": {},
   "outputs": [
    {
     "data": {
      "text/plain": [
       "<Response [403]>"
      ]
     },
     "execution_count": 82,
     "metadata": {},
     "output_type": "execute_result"
    }
   ],
   "source": [
    "html"
   ]
  },
  {
   "cell_type": "code",
   "execution_count": 83,
   "id": "d342ea14",
   "metadata": {},
   "outputs": [
    {
     "data": {
      "text/html": [
       "<!DOCTYPE html>\n",
       "<html lang=\"en-US\">\n",
       "<head>\n",
       "    <title>Just a moment...</title>\n",
       "    <meta http-equiv=\"Content-Type\" content=\"text/html; charset=UTF-8\" />\n",
       "    <meta http-equiv=\"X-UA-Compatible\" content=\"IE=Edge\" />\n",
       "    <meta name=\"robots\" content=\"noindex,nofollow\" />\n",
       "    <meta name=\"viewport\" content=\"width=device-width,initial-scale=1\" />\n",
       "    <link href=\"/cdn-cgi/styles/cf-errors.css\" rel=\"stylesheet\" />\n",
       "    \n",
       "<script>\n",
       "    (function(){\n",
       "        window._cf_chl_opt={\n",
       "            cvId: '2',\n",
       "            cType: 'interactive',\n",
       "            cNounce: '10013',\n",
       "            cRay: '73dfb6c39b2c8e81',\n",
       "            cHash: 'cf18ab0fbe547a9',\n",
       "            cUPMDTk: \"\\/search?query=backend&__cf_chl_tk=Ku2AJZefGRuungdUIvppq37bbg2ibNGcnB8STFUKong-1661046584-0-gaNycGzNBRE\",\n",
       "            cFPWv: 'g',\n",
       "            cTTimeMs: '1000',\n",
       "            cTplV: 3,\n",
       "            cRq: {\n",
       "                ru: 'aHR0cHM6Ly93d3cuc2tpbGxzaGFyZS5jb20vc2VhcmNoP3F1ZXJ5PWJhY2tlbmQ=',\n",
       "                ra: 'cHl0aG9uLXJlcXVlc3RzLzIuMjguMQ==',\n",
       "                rm: 'R0VU',\n",
       "                d: 'e6Oz3B2zlEAwNnxIWL1SyRCyusD2PPFKNQMBJbyXGBkOwFkBPQaexH3DMS+8kmdJ6iIEaoWvAPMp21IH60wrA4PX0wz5iIbYg5HMM9Gu7YmapcJIQlLzinnpsI0uYIARfh06z2lA5zpGNpyHNx+eslIv+aogvPmBNmnN/Qor+bWr7iNQsZePNnvuOIGz7fAiRgIwaTMClYHpDIrVNw1hsOlvhhFjiNaqt8qpegTzAZUgbH8YMYSgNQmZYTWrIaiIEr3LxLxKUoxkGVGb4nJwYMYM2Q+dFkMOvZBCM2HJ37uExUNpCB5y482bG/OtTtqW0dCqCopU1BUkfxBjtD0zdfjLYuRlpcFxc4UoRBDLmxw6GoA/FjrnQN5H5R2E/4R+i9EHzRSAjJZQSITx32T7HtaHul5Dt+DrV/5IZYYEPPJo5HV5Cz48IXV8hFO3eHZN6Dt2gJMTkzdJpPrWrE2PbzZRgJFZHubWpEcYKQI1NyhTD9McBalVHUGSmKL/fV96KLF98NqdgeN/o3IHfJFb+yw1dvu+YMXteOsxmL327ZY+nc+iWR0TyQE9DVV77tuVkY1LGOB2e6Goqa+fuarhyuyxOUP4r8crs4ALiPCMMWE=',\n",
       "                t: 'MTY2MTA0NjU4NC45MDkwMDA=',\n",
       "                m: 'OEpkoCHGDGC/3el/6umjyYrKyMLNs3s4H2jQWrkzSyQ=',\n",
       "                i1: 'pN+p6CnoXehGnkJPFFLRDA==',\n",
       "                i2: 'qvftB12Qzwqa8aLXO5UXUw==',\n",
       "                zh: '6+rCX0XAYVyJddS3lnLaiB+3qkfAdlMxms8SHxJaWCQ=',\n",
       "                uh: 'SLdVolODg++SO356HusO5I/hbfOpiiOxQXj62i/MUkA=',\n",
       "                hh: '8MiX0ZaighdGIIYnQev0TNEFZyxvp/p5pYrZ4aOWLCY=',\n",
       "            }\n",
       "        }\n",
       "        window._cf_chl_enter = function(){window._cf_chl_opt.p=1};\n",
       "    })();\n",
       "</script>\n",
       "\n",
       "</head>\n",
       "<body class=\"no-js\">\n",
       "    <div class=\"main-wrapper\" role=\"main\">\n",
       "    <div class=\"main-content\">\n",
       "        <h1 class=\"zone-name-title h1\">\n",
       "            <img class=\"heading-favicon\" src=\"/favicon.ico\"\n",
       "                 onerror=\"this.onerror=null;this.parentNode.removeChild(this)\" />\n",
       "            www.skillshare.com\n",
       "        </h1>\n",
       "        <h2 class=\"h2\" id=\"cf-challenge-running\">\n",
       "            Checking if the site connection is secure\n",
       "        </h2>\n",
       "        <noscript>\n",
       "            <div id=\"cf-challenge-error-title\">\n",
       "                <div class=\"h2\">\n",
       "                    <span class=\"icon-wrapper\">\n",
       "                        <div class=\"heading-icon warning-icon\"></div>\n",
       "                    </span>\n",
       "                    <span id=\"cf-challenge-error-text\">\n",
       "                        Enable JavaScript and cookies to continue\n",
       "                    </span>\n",
       "                </div>\n",
       "            </div>\n",
       "        </noscript>\n",
       "        <div id=\"trk_jschal_js\" style=\"display:none;background-image:url('/cdn-cgi/images/trace/captcha/nojs/transparent.gif?ray=73dfb6c39b2c8e81')\"></div>\n",
       "        <div id=\"cf-challenge-body-text\" class=\"core-msg spacer\">\n",
       "            www.skillshare.com needs to review the security of your connection before\n",
       "            proceeding.\n",
       "        </div>\n",
       "        <form id=\"challenge-form\" action=\"/search?query=backend&amp;__cf_chl_f_tk=Ku2AJZefGRuungdUIvppq37bbg2ibNGcnB8STFUKong-1661046584-0-gaNycGzNBRE\" method=\"POST\" enctype=\"application/x-www-form-urlencoded\">\n",
       "            <input type=\"hidden\" name=\"md\" value=\"A0zRwOJDLkkhPZ1RQeDEysPSUOFvblCLkQgf1jwVhcE-1661046584-0-AT5pC8lNR-2G22VVRw8GUyw84dqYDYuAa1SuewTuOh4A8Fhkn7OFYns3ZilcS6FPzuGuv-WSUZ7fQSfzv0CWpEVdi3sX-sxHCUL1G5YIFnoeXL0cROyKXuy_pxpj4iLaFxunOinZrZa_Arp45vz3RY2ZhOV1vNs-FNh-w6Yf5fG-U9QHQk4v-H0CQ7Nd_pliUqa1X7mpWd_LJLUJgpWdh7sPQdOQ309Z8vqg-U-w7S5fIXK04QyLW28bIvqZ0YL8o1KBy_GuJoB8Ul-0nauiuz6PaZZThtnFn9T2msPG-MrGuey8VYCKxJx2HLo9_p5F93WE0QGEsjooeMig11rxkugGvykAlC1aficFiG763d-p_qhBpXQjK6c3MazBrfcHqXyTHwTqHDfugFqZYF1V25ZQCaSjNnMnhLZXxrrjb-xogHbroJkgh8rUK8__JQW7sQHXXXI45qnuSnjyMgRZgruo02tQuaNSoShLMCEXjGMuk3bPGxi8k-HJsGzVx8TWdFFc_ZKCclhZjFYFtblqvV5yuj5P1QsNSECL6pwNZj37t_XHzX_X_1KA7TnwjSa8oxrMyHVlvAzu7YsVKBcXsKd59jdDG7VHDU0iHWuGHa1IJaE3FgM-kx82IJ7H-527lchoGseIXMlkUc3L2h2YDwfYNkbGlk7ewq-Hb_2lHYRw7rReqafLuW9GYgSfaETijdMNevs673Omp2hN8twq2uqRuCbtRvrsfzphn_IIcVFU\" />\n",
       "            <input type=\"hidden\" name=\"r\" value=\"gXgYLZ0QCyuQOZy3yF64nvF9iDh4Lj8UXcoYsp5YUGw-1661046584-0-AehVXWvvB2emSR0UXal+wNJxFz+uERGLmI+NQ1lL88/6AxShxP6k209H2WVZCAm/qyQ5NtVFNnYHasmV/r8IGucpRQ6QLQvmwCVFSW6fS/smvRyJCexrw8feOhtLKyXGPP+iGLmR02XIrvdAeT7EOWs8lCyP2Om2P8LjWGRX+ZMoT4IQpoMWqGjIqaYvQnb5Y+n/H6yuKXIxJKCTgNUTf0tGvhp9s7MWd36mL9JAr4qYPC4zP7NicGPwTA/pJLRfbwJht0D7zT5cCDwykslRMYtQbxxlhLJxI6eT5fAI37F/QuNfIhZ0bnE2WwWv4qAXjFsuC9UbMph9kn1Ecxtolz/PrTzjrMayFAhB4VAxDjZ3YRAm6kiqqrEk6HCUqzV7F23vg5PxOg7V6oZ6ErHTrvLQwAJHUhjXT7UYrRvIPpZUNVlQzkEizC5bpnY0HhNWh91dpmsXgGzKnGUji+nQTNfvTsRuU4iwcWbhx6cUAjud/DtVUmy+mWsSP9HYEq8IQRfPMHR/cO3OtEDnDGZGvKE5fqbkqhFukAgF+VX6HfcFjFJilqOt+JYUpoVB64sdyLwThaarNMVnfGvbezD/0mIU51AVeMw6Fo9d0i46DgSTrgeBHxOSn1O1uZF83/ulope/ForJbYlzC/v1BrPDeJMBN2TeaQvb7BiFJxXQSnXNaOro/8OMIKlySZZfjlkPvjxhTmk9iqu/r6T2PYFUoeIzVXHRu/tuMS7V4iUlXb7HdzcBhUzhAh3BG/UcEaltVrag6suiCLmsBLAXvehXqvVjpoJGXs+I/a7Qr1BZtmZWwR3cwvBY7KvPnZfmW6jBoPBq7LXabxL63+fAQ5K3MxF61Ln/MXQR/wz1/Lz/etpbctEkGF3M8ajaHQjMnF1+vozVH1F+c8VPA9KQq2L+R0+pUoa0cMwNImfHEaMs6+zPgRp5rSrm262TsFeISHPOOLMGevq9gJInPHClEUEXTvAxip1TyWVH0UD/5BZ7A0UP+FCQYrTLvhMjWDyJ1PhUkyFd92cvy5nbt49lM05k4yYUuAYCu+jogzwDJMbR9mEZZy0qPPrpdyc1KrXU2mLpIf7Rg47ux4Welv0j1Up01cMn2lobFiSsFwLCDKK8gMfd+xh/HxG6YFaMDRRYoVJnmrHJCZWnwNMpyQJAN7RzmUVh/hi1OOka2rcCLCVgFi/7Ir0/FkAO/eHj7z+ucqMbiYtTReUWFIaiPSY2ewTWdfk=\"/>\n",
       "        </form>\n",
       "    </div>\n",
       "</div>\n",
       "<script>\n",
       "    (function(){\n",
       "        var trkjs = document.createElement('img');\n",
       "        trkjs.setAttribute('src', '/cdn-cgi/images/trace/captcha/js/transparent.gif?ray=73dfb6c39b2c8e81');\n",
       "        trkjs.setAttribute('style', 'display: none');\n",
       "        document.body.appendChild(trkjs);\n",
       "        var cpo = document.createElement('script');\n",
       "        cpo.src = '/cdn-cgi/challenge-platform/h/g/orchestrate/captcha/v1?ray=73dfb6c39b2c8e81';\n",
       "        window._cf_chl_opt.cOgUHash = location.hash === '' && location.href.indexOf('#') !== -1 ? '#' : location.hash;\n",
       "        window._cf_chl_opt.cOgUQuery = location.search === '' && location.href.slice(0, -window._cf_chl_opt.cOgUHash.length).indexOf('?') !== -1 ? '?' : location.search;\n",
       "        if (window.history && window.history.replaceState) {\n",
       "            var ogU = location.pathname + window._cf_chl_opt.cOgUQuery + window._cf_chl_opt.cOgUHash;\n",
       "            history.replaceState(null, null, \"\\/search?query=backend&__cf_chl_rt_tk=Ku2AJZefGRuungdUIvppq37bbg2ibNGcnB8STFUKong-1661046584-0-gaNycGzNBRE\" + window._cf_chl_opt.cOgUHash);\n",
       "            cpo.onload = function() {\n",
       "                history.replaceState(null, null, ogU);\n",
       "            };\n",
       "        }\n",
       "        document.getElementsByTagName('head')[0].appendChild(cpo);\n",
       "    }());\n",
       "</script>\n",
       "\n",
       "    <div class=\"footer\" role=\"contentinfo\">\n",
       "        <div class=\"footer-inner\">\n",
       "            <div class=\"clearfix diagnostic-wrapper\">\n",
       "                <div class=\"ray-id\">Ray ID: <code>73dfb6c39b2c8e81</code></div>\n",
       "            </div>\n",
       "            <div class=\"text-center\">\n",
       "                Performance &amp; security by\n",
       "                <a rel=\"noopener noreferrer\" href=\"https://www.cloudflare.com?utm_source=challenge&utm_campaign=l\" target=\"_blank\">Cloudflare</a>\n",
       "            </div>\n",
       "        </div>\n",
       "    </div>\n",
       "</body>\n",
       "</html>\n"
      ],
      "text/plain": [
       "<IPython.core.display.HTML object>"
      ]
     },
     "execution_count": 83,
     "metadata": {},
     "output_type": "execute_result"
    }
   ],
   "source": [
    "HTML(html.text)"
   ]
  },
  {
   "cell_type": "code",
   "execution_count": 84,
   "id": "33a565b1",
   "metadata": {},
   "outputs": [],
   "source": [
    "from requests_html import HTMLSession"
   ]
  },
  {
   "cell_type": "code",
   "execution_count": 85,
   "id": "5b1f8592",
   "metadata": {},
   "outputs": [],
   "source": [
    "hh = {'accept': 'application/json, text/plain, */*',\n",
    "'accept-encoding': 'gzip, deflate, br',\n",
    "'accept-language': 'en-GB,en-US;q=0.9,en;q=0.8',\n",
    "'cookie': 'ud_firstvisit=2022-05-20T07:21:24.459637+00:00:1nrwwv:hbJ3N3CIdpU2YmGIv3hNp8cc8ec; __udmy_2_v57r=c080ca5fd1934b1f9855a460790ac390; __udmy_1_a12z_c24t=VGhlIGFuc3dlciB0byBsaWZlLCB0aGUgdW5pdmVyc2UsIGFuZCBldmVyeXRoaW5nIGlzIDQy; __ssid=9cdab2d04d0af9c0a22f182a1be15b4; _rdt_uuid=1653031289426.0cd8da9e-3b41-4acd-966c-a7edccc581c1; _fbp=fb.1.1653031289704.1570356710; _pxvid=79a93801-d80d-11ec-bf2a-6d55427a5754; G_ENABLED_IDPS=google; existing_user=true; optimizelyEndUserId=oeu1653032058743r0.6270917073225577; muxData=mux_viewer_id=0bd865d1-b006-4cd0-bb5d-c237e1fe0b5b&msn=0.7277765692233247&sid=84f49e0d-8ce5-4d12-905c-0f0c34bb5c33&sst=1655869215429.6&sex=1655870728884.6; OptanonConsent=isIABGlobal=false&datestamp=Sat+Jun+25+2022+08%3A57%3A37+GMT%2B0530+(India+Standard+Time)&version=6.10.0&hosts=&consentId=5c3d0cf5-b9c4-4de6-a92d-846d5c884253&interactionCount=1&landingPath=NotLandingPage&groups=C0003%3A1%2CC0005%3A1%2CC0004%3A1%2CC0001%3A1%2CC0002%3A1&AwaitingReconsent=false; ki_s=225191%3A0.0.0.0.0%3B225936%3A0.0.0.0.0; csrftoken=uEuDjVXaCmZO6jNoxPKHgFgUOEBitptExt7iVRvGle7YfVIX1TtWH3Or6ia5CMQr; client_id=bd2565cb7b0c313f5e9bae44961e8db2; ud_last_auth_information=\"{\\\"backend\\\": \\\"udemy-auth\\\"\\054 \\\"suggested_user_email\\\": \\\"amanagarwal30121998@gmail.com\\\"\\054 \\\"suggested_user_name\\\": \\\"Aman\\\"\\054 \\\"suggested_user_avatar\\\": \\\"https://img-b.udemycdn.com/user/50x50/anonymous_3.png\\\"}:1oHBNT:-FIUej1Sr5nkaMhtNA0BVQGKQGI\"; ab.storage.userId.5cefca91-d218-4b04-8bdd-c8876ec1908d=%7B%22g%22%3A%2263432652%22%2C%22c%22%3A1659044948725%2C%22l%22%3A1659044948728%7D; ab.storage.deviceId.5cefca91-d218-4b04-8bdd-c8876ec1908d=%7B%22g%22%3A%226edd2708-e923-7c8f-39ed-777c8f6a48bf%22%2C%22c%22%3A1659044948729%2C%22l%22%3A1659044948729%7D; ab.storage.sessionId.5cefca91-d218-4b04-8bdd-c8876ec1908d=%7B%22g%22%3A%22c3b139e8-bbde-006e-2acc-4ea5c02e00a2%22%2C%22e%22%3A1659046796924%2C%22c%22%3A1659044948727%2C%22l%22%3A1659044996924%7D; ud_cache_brand=INen_US; ud_cache_marketplace_country=IN; ud_cache_price_country=IN; ud_cache_release=d094503393651536deb5; ud_cache_version=1; ud_cache_language=en; ud_cache_device=None; ud_cache_modern_browser=1; _gid=GA1.2.1164837422.1660988307; pxcts=d83a204c-206b-11ed-818f-4f626e586f56; _gcl_au=1.1.2045528397.1660988311; blisspoint_fpc=a7df1eaa-9f8e-4e16-bac3-7767f35fbda2; IR_gbd=udemy.com; FPAU=1.1.2045528397.1660988311; ki_r=; IR_PI=774fef6d-87d9-35c9-8dcb-e8f5ad81fa14%7C1661074986914; ud_cache_user=\"\"; ud_cache_logged_in=0; ud_cache_campaign_code=LETSLEARNNOW; dj_session_id=r3zqvo3qsx96whbj3gg1kdb12flpolvx; _pxhd=hnt3/dAKfHRX3Mws0SajRb/4XX0Gyx6qbgXfSRsk5fPzDNMfXfyW9Pi5HCw0daPin0VBCSro36UxMhsXAR-daw==:AD9h4o1okazcGk0ngowSMc747WlWrJIKoR7VWnYXrPousqttaMLtuZR9MGM6BsTMldWr5pQECUXsasVJckgcfjuT7ywhd2gWZywhYkg-Qow=; last_searched_phrase=b43fdd98b1fd705ae4c3a10cf25aad8a; __cfruid=abcea58bab1cd1f6124eab0f0abd9483ea19b594-1661006338; __udmy_4_a12z=160c68093ffda93efb349f08699211a179b4217b6d023092e54367d15e515480; OptanonConsent=isIABGlobal=false&datestamp=Sat+Aug+20+2022+20%3A30%3A32+GMT%2B0530+(India+Standard+Time)&version=6.39.0&hosts=&consentId=5c3d0cf5-b9c4-4de6-a92d-846d5c884253&interactionCount=1&landingPath=NotLandingPage&groups=C0003%3A1%2CC0005%3A1%2CC0004%3A1%2CC0001%3A1%2CC0002%3A1&AwaitingReconsent=false; IR_5420=1661007635825%7C0%7C1661007635825%7C%7C; ki_t=1653031290537%3B1660988312095%3B1661007635918%3B10%3B48; _ga=GA1.2.1389902961.1653031286; seen=1; _px3=45dd421cc59f1e844e6e0ef4da13bfa02856f5418c7f67de2017618111e080e9:Rtq2GFGXAJ06bAcvcz/qZRIMybrDE7oP3I66JInax4WJpsfxt6kvVtg974opQSD28h/hnQCy92cVJ5+GcM+z5Q==:1000:tHZjWx2xFoUj2AWGBmFBvjVwPIhTe8Lcp9SMUrhT1ka8JC6RPBfep60FJ15LgEe0Nm+0ScvCY6mUAMKeaRqkwx1E6cEkHlKkGKigbeLs8jCzQsM5wej7/3bEVHeYFL23ZdlfTjQbyKFVvS/yOXjAjKf+wuMWjEvPvQnYsNU71o09hUvKE+Flm5NfZ8x1+k5Klm5yxRUQvqfP0RkVD4iYTw==; _px2=eyJ1IjoiZDY4OThkMTAtMjA5OC0xMWVkLWI3MWMtN2Y3YmMyMGE2OGE5IiwidiI6Ijc5YTkzODAxLWQ4MGQtMTFlYy1iZjJhLTZkNTU0MjdhNTc1NCIsInQiOjE2NjEwMTIxODkwNTksImgiOiIwZDJkNmQwNjQ5MDE0OGY3Yjg1NDRjY2Q5NGE1ZWY0YmJlZmViOTgyNTBiMDBjMGExYzdkYjBhZjQyODAzNGZjIn0=; __cf_bm=SjH46OELANOhr3XXcc32hYyJhGQDrZTqxqogSZkdbTA-1661011790-0-ATeVO2AqqokEunD51kfcbUy7FQ5kBYkrKcZUyiMzvEc8Y5oUluDl8UKT5QsoaGiwCbPmZmM9PzodC5T1GYuI5k4=; query_session_identifier_id=SyKnlV2YQZK98k1yp2ey8A; evi=\"3@ge7jMLO-lat-YDXUPClDaxhdO85tGMezSI7RxYcuTvl72nHLwTWoDpg9PT2Q6YOSB5MWZk9qLU9__nDNCYoyiIxJMiILmU4JiOY07Rw3ljVlKgCGAK-JWVmoI0l2i3RpfaxhYMUuhSuxDNuyyVzjH09hTFlhb1ozRKGeJtjn2SAbaZw-DhBznYslSKASg6xpssmrErtogTAYqqh77H3j8eq43KnB4HgebF32OeRYRg==\"; ud_rule_vars=\"eJxtjtFOxCAQRX-l4VXbzFBoYb6lCZmloMQ1ZIHuy2b_XYwbo9HXyZxz7k00Li-hhd1dU00tF_JgwLOOO9pZnTBaozWrBVYL7GcL5HN-S0HQIG6biKnU9sW6nVvY-n0TEqQcQY8SBlhJIkk1KS2XGZ8ACGATz_3rzB1t-fCvrhWOMXlX81F8cFcuiU_nh62G_AMo4XKE-rdmPmu4EAIhTmqd8Z-a7_4aHntbev9lWEdphj5WWdJ2kspo-224i_sH7BtYGg==:1oPR35:gLn0hZRipp3bmb9P6LsbIeuot3A\"; _ga_7YMFEFLR6Q=GS1.1.1661011795.21.0.1661011811.44.0.0; eventing_session_id=Sdze4fi2Sf2rouzHExyW1Q-1661013611500',\n",
    "'referer': 'https://www.udemy.com/courses/search/?src=ukw&q=backend',\n",
    "'sec-ch-ua': '\"Chromium\";v=\"104\", \" Not A;Brand\";v=\"99\", \"Google Chrome\";v=\"104\"',\n",
    "'sec-ch-ua-mobile': '?0',\n",
    "'sec-ch-ua-platform': \"macOS\",\n",
    "'sec-fetch-dest': 'empty',\n",
    "'sec-fetch-mode': 'cors',\n",
    "'sec-fetch-site': 'same-origin',\n",
    "'user-agent': 'Mozilla/5.0 (Macintosh; Intel Mac OS X 10_15_7) AppleWebKit/537.36 (KHTML, like Gecko) Chrome/104.0.0.0 Safari/537.36',\n",
    "'x-requested-with': 'XMLHttpRequest',\n",
    "'x-udemy-cache-brand': 'INen_US',\n",
    "'x-udemy-cache-campaign-code': 'LETSLEARNNOW',\n",
    "'x-udemy-cache-device': None,\n",
    "'x-udemy-cache-language': 'en',\n",
    "'x-udemy-cache-logged-in': '0',\n",
    "'x-udemy-cache-marketplace-country': 'IN',\n",
    "'x-udemy-cache-modern-browser': '1',\n",
    "'x-udemy-cache-price-country': 'IN',\n",
    "'x-udemy-cache-release': 'd094503393651536deb5',\n",
    "'x-udemy-cache-version': '1'}"
   ]
  },
  {
   "cell_type": "code",
   "execution_count": 86,
   "id": "a630e07d",
   "metadata": {},
   "outputs": [
    {
     "name": "stderr",
     "output_type": "stream",
     "text": [
      "2022-08-21 07:20:12 [urllib3.connectionpool] DEBUG: Starting new HTTPS connection (1): www.skillshare.com:443\n",
      "2022-08-21 07:20:12 [urllib3.connectionpool] DEBUG: https://www.skillshare.com:443 \"GET /search?query=backend HTTP/1.1\" 403 None\n"
     ]
    }
   ],
   "source": [
    "url = 'https://www.skillshare.com/search?query=backend'\n",
    "json = requests.get(url, headers=hh)"
   ]
  },
  {
   "cell_type": "code",
   "execution_count": 88,
   "id": "3b85a6d5",
   "metadata": {},
   "outputs": [
    {
     "data": {
      "text/plain": [
       "<Response [403]>"
      ]
     },
     "execution_count": 88,
     "metadata": {},
     "output_type": "execute_result"
    }
   ],
   "source": [
    "json"
   ]
  },
  {
   "cell_type": "code",
   "execution_count": 106,
   "id": "7a1c77e4",
   "metadata": {},
   "outputs": [],
   "source": [
    "import nest_asyncio"
   ]
  },
  {
   "cell_type": "code",
   "execution_count": 107,
   "id": "67379118",
   "metadata": {},
   "outputs": [],
   "source": [
    "nest_asyncio.apply()"
   ]
  },
  {
   "cell_type": "code",
   "execution_count": 108,
   "id": "dfe589bd",
   "metadata": {},
   "outputs": [],
   "source": [
    "session = HTMLSession()\n",
    "\n",
    "REQUEST_HEADERS = {\n",
    "    \"Accept\": \"text/html,application/xhtml+xml,application/xml;q=0.9,image/avif,image/webp,image/apng,*/*;q=0.8,application/signed-exchange;v=b3;q=0.9\",\n",
    "    \"Referer\": \"\",\n",
    "    \"User-Agent\": \"Mozilla/5.0 (Macintosh; Intel Mac OS X 10_15_7) AppleWebKit/537.36 (KHTML, like Gecko) Chrome/104.0.0.0 Safari/537.36\"\n",
    "}"
   ]
  },
  {
   "cell_type": "code",
   "execution_count": 116,
   "id": "87dbdb09",
   "metadata": {},
   "outputs": [
    {
     "name": "stderr",
     "output_type": "stream",
     "text": [
      "2022-08-21 09:35:50 [urllib3.connectionpool] DEBUG: Resetting dropped connection: www.skillshare.com\n",
      "2022-08-21 09:35:51 [urllib3.connectionpool] DEBUG: https://www.skillshare.com:443 \"GET /search?query=backend HTTP/1.1\" 200 None\n"
     ]
    }
   ],
   "source": [
    "src = session.get(url='https://www.skillshare.com/search?query=backend', headers=REQUEST_HEADERS)"
   ]
  },
  {
   "cell_type": "code",
   "execution_count": 117,
   "id": "4ccefb97",
   "metadata": {},
   "outputs": [
    {
     "data": {
      "text/html": [
       "window.dataLayer = [{\"visitorType\":\"visitor\",\"sessionType\":\"logged-out\"}]; (function(w,d,s,l,i){ w[l]=w[l]||[];w[l].push({'gtm.start':new Date().getTime(),event:'gtm.js'}); var f=d.getElementsByTagName(s)[0],j=d.createElement(s),dl=l!='dataLayer'?'&l='+l:'';j.async=true; j.src='https://www.googletagmanager.com/gtm.js?id='+i+dl; j.setAttribute('nonce',\"a0uUVPdygbHQmr/MHy9UA9R/gx0=\"); f.parentNode.insertBefore(j,f); })(window,document,'script','dataLayer','GTM-TKT4VZ7');\n",
       "Search backend Classes - Skillshare\n",
       "var SS = {}; SS.serverBootstrap = {\"userData\":{\"id\":null,\"isAdmin\":0,\"picture\":\"\\u003Cimg src=\\\"https://static.skillshare.com/assets/images/default-profile-2020.jpg\\\" /\\u003E\",\"images\":{\"small\":\"https://static.skillshare.com/assets/images/default-profile-2020.jpg\",\"medium\":\"https://static.skillshare.com/assets/images/default-profile-2020.jpg\",\"large\":\"https://static.skillshare.com/assets/images/default-profile-2020.jpg\"},\"username\":0,\"fullName\":null,\"firstName\":null,\"email\":null,\"numFollowing\":0,\"numFollowers\":0,\"isMember\":0,\"isPremiumMember\":0,\"vanityUsername\":null,\"onsiteNotificationDetails\":{\"total\":0,\"hasUnread\":false},\"canGetPromotion\":1,\"is_teacher\":0,\"headline\":null,\"isTopTeacher\":false,\"profileUrl\":\"https://www.skillshare.com/profile/user/\",\"hasCanceled\":false},\"membershipData\":{\"numAvailableClasses\":\"39,623\",\"numFreeDays\":7},\"googleClientId\":\"267632956158-47nsffcfchc4s6c2pr6c14o43fie0ea1.apps.googleusercontent.com\",\"appleClientId\":\"com.skillshare.Skillshare.SignIn\",\"auth0\":{\"tenantDomain\":\"skillshare-production.us.auth0.com\",\"clientId\":\"gKF7MDIf13kpj1vMN5db7B6asHklmWd0\"},\"gRecaptcha\":{\"siteKey\":\"6Lc8E8AUAAAAAGh0V-pzleBls8xZpYnss3ojj88T\",\"requireRecaptcha\":false,\"requireSignupRecaptcha\":true},\"siteLocale\":\"en\",\"rewardsWebsocketUrl\":\"wss://fdh0102g7j.execute-api.us-east-1.amazonaws.com/prod\",\"staticAssetData\":{\"cdnHost\":\"static.skillshare.com\",\"imageBasePath\":\"/assets/images/\"},\"apiData\":{\"host\":\"https://www.skillshare.com\"},\"isMobileWeb\":false,\"videoThumbnailsBaseUrl\":\"https://static.skillshare.com/skillshare/uploads\",\"pricingDefaults\":{\"currencyCode\":\"usd\",\"countryCode\":\"US\",\"currencySymbol\":\"$\"},\"flags\":{\"and_brand_2020\":\"on\",\"android_internal_events\":\"on\",\"couponTool\":\"on\",\"gr_ios_device_trial_offer_parity\":\"month\",\"gr_ios_trial_offer_parity\":\"week\",\"gr_and_device_trial_offer_parity\":\"month\",\"gr_and_trial_offer_parity\":\"week\",\"ios_brand_2020\":\"on\",\"ios_internal_events\":\"on\",\"mo_prem_cta_09_2019\":\"on\",\"mo_skip_guest\":\"on\",\"mobile_hide_discover_tab\":\"on\",\"new_home_enabled\":\"on\",\"m9s_efw_refunds\":\"on\",\"gr_yt_ld\":\"on\",\"sft_role_writes\":\"on\",\"gr_tch_ref\":\"on\",\"lx_ios_trns_sbs_def\":\"on\",\"lx_ClassType_migration\":\"on\",\"gql_unsave_user_class\":\"on\",\"mar_cc_waitlist_anavictoria\":\"on\",\"intl_lang_sel\":\"default\",\"gr_ch_fq\":\"on\",\"lx_course_brandonwoelfel_waitlist\":\"on\",\"gr_hght_pr_bn\":\"on\",\"mar_cc_mp_aarondraplin\":\"on\",\"pl_agent\":\"on\",\"lx_captions_test\":\"off\",\"gql_register_ls_reminder\":\"on\",\"mo_and_recforyou\":\"on\",\"lx_cd_uiux\":\"off\",\"ent_cta_atf\":\"on\",\"lx_LOCD_redesign\":\"on\",\"learning_transcripts_tab\":\"default\",\"i18n_cmd_ft\":\"on\",\"lx_growth_vpdl\":\"off\",\"mo_ios_optin_multiprompts\":\"on\",\"learning_transcripts_editor_for_teachers\":\"on\",\"lx_and_trns_sbs_def\":\"on\",\"ent_lp_ms\":\"off\",\"mar_cc_dp_anavictoria\":\"on\",\"lx_course_acf\":\"on\",\"i18n_android\":\"on\",\"lx_cbc_dkng_2022_03_waitlist\":\"on\",\"lx_cc_lp\":\"on\",\"sec_csp\":\"off\",\"lx_course_jeffstaple_waitlist\":\"on\",\"mar_cc_dp_aarondraplin\":\"on\",\"intl_lang_sel_dev\":\"default\",\"gr_ch_cp_fd\":\"on\",\"lx_ios_ml_sbs\":\"on\",\"lx_cc_waitlist_holleymurchison\":\"on\",\"gr_and_pricing_9_21_21\":\"on\",\"sec_csp_enforce\":\"on\",\"mar_cc_waitlist_ohnmarwin\":\"on\",\"mo_ios_search_tab\":\"on\",\"lx_lp_cta_text\":\"on\",\"gr_loh_copy\":\"handsOn\",\"gr_loh_fll_rdsgn\":\"excluded\",\"lx_lp_row_funnel\":\"off\",\"gql_project_comments\":\"on\",\"lx_and_captions_test\":\"off\",\"gr_brws_bnrs\":\"excluded\",\"lx_and_jvban\":\"off\",\"disc_web_clsinf_hrchy\":\"on\",\"lx_cd_uiux_vp\":\"off\",\"i18n_ios\":\"on\",\"gr_trp\":\"on\",\"gr_ch_lk\":\"on\",\"disc_ios_no_monthly\":\"on\",\"mar_cc_waitlist_aarondraplin\":\"on\",\"disc_cls_imp_ks\":\"on\",\"gql_save_user_class\":\"on\",\"mo_and_checkout_guidelines\":\"on\",\"pl_ar_mr_switch\":\"on\",\"gql_livesession_query\":\"on\",\"ent_sft_cta_hdr\":\"off\",\"mo_and_myclasses_tab\":\"on\",\"lx_and_ml_sbs\":\"on\",\"disc_browse_menu_update\":\"on\",\"lx_cc_waitlist_tabithapark\":\"on\",\"mo_ios_recforyou2\":\"on\",\"pl_i18n_seo\":\"off\",\"mo_ios_asi\":\"on\",\"mo_ios_recforyou\":\"default\",\"gr_fb_tracker\":\"on\",\"gr_ab_prom\":\"default\",\"gr_tr_locd\":\"default\",\"mar_cc_waitlist_peggydean\":\"on\",\"mo_ios_myclasses_tab\":\"on\",\"lx_cbc_dkng_waitlist\":\"on\",\"mar_cc_mp_anavictoria\":\"on\",\"pl_i18n_web\":\"on\",\"mar_cc_lp_enroll\":\"on\",\"pl_a0_web\":\"off\",\"lx_course_catcoquillette_2022_04_waitlist\":\"on\",\"lx_vqs\":\"on\",\"mar_cc_mp_testimonials\":\"on\",\"learning_live_session_detail\":\"on\",\"gr_gql_project\":\"on\",\"gr_brws_mgr\":\"on\",\"lx_disable_autoplay_test\":\"on_muted_audio\",\"sft_role_reads\":\"on\",\"gql_complete_user_class\":\"on\",\"mar_cc_mp_enroll\":\"on\",\"lx_course_catcoquillette_waitlist\":\"on\",\"mo_ios_optin_modal\":\"on\",\"logs_to_sentry_and\":\"on\",\"gr_mui_auth\":\"off\"},\"requestSource\":\"web\",\"nonce\":\"a0uUVPdygbHQmr/MHy9UA9R/gx0=\",\"signupPopupHeaderText\":\"Join Skillshare for Free\",\"signupPopupSubheaderText\":\"Explore your creativity with thousands of inspiring classes in design, illustration, photography, and more.\",\"bannerType\":\"DEFAULT\",\"tagData\":{\"tagId\":7409,\"userIsFollowingTag\":false},\"searchData\":{\"query\":\"backend\",\"relatedTagsData\":{\"tags\":[],\"showTags\":false}}}; SS.serverBootstrap.isClassDetails = false; // an array of pages to be require'd (page-specific deps) SS.pageDependencies = ['search\\x2Findex','common\\x2Ffooter'];\n",
       "Warning: Skillshare uses Javascript for some of its core functionality. It is highly recommended that you turn on Javascript in your preferences and reload the page.\n",
       "New members: get your first 7 days of Skillshare Premium for free! Click here to redeem\n",
       "Browse\n",
       "CREATE\n",
       "Animation\n",
       "Creative Writing\n",
       "Film & Video\n",
       "Fine Art\n",
       "Graphic Design\n",
       "Illustration\n",
       "Music\n",
       "Photography\n",
       "UI/UX Design\n",
       "Web Development\n",
       "BUILD\n",
       "Business Analytics\n",
       "Freelance & Entrepreneurship\n",
       "Leadership & Management\n",
       "Marketing\n",
       "THRIVE\n",
       "Lifestyle\n",
       "Productivity\n",
       "All Classes\n",
       "Student Projects\n",
       "Sign In\n",
       "Sign Up\n",
       "Sign In\n",
       "Home\n",
       "Browse\n",
       "Student Projects\n",
       "Company\n",
       "About\n",
       "Careers\n",
       "Press\n",
       "Blog\n",
       "Affiliates\n",
       "Partnerships\n",
       "Community\n",
       "Team Plans\n",
       "Refer a Friend\n",
       "Limited Memberships\n",
       "Scholarships\n",
       "Free Classes\n",
       "Teaching\n",
       "Become a Teacher\n",
       "Teacher Help Center\n",
       "Mobile\n",
       "Download_on_the_App_Store_Badge_US-UK_RGB_blk_4SVG_092917\n",
       "Download on the Google Play store\n",
       "image/svg+xml\n",
       "© Skillshare, Inc. 2022 Help Privacy Terms\n",
       "Company\n",
       "About\n",
       "Careers\n",
       "Press\n",
       "Blog\n",
       "Affiliates\n",
       "Partnerships\n",
       "Community\n",
       "Team Plans\n",
       "Refer a Friend\n",
       "Limited Memberships\n",
       "Scholarships\n",
       "Free Classes\n",
       "Teaching\n",
       "Become a Teacher\n",
       "Teacher Help Center\n",
       "Download_on_the_App_Store_Badge_US-UK_RGB_blk_4SVG_092917\n",
       "© Skillshare, Inc. 2022\n",
       "Help Privacy Terms\n",
       "SS.pageTrackingName = \"search\"; var siftData = {\"userId\":null,\"snippetKey\":\"ab315e4897\",\"deviceSessionId\":\"f98c2e9e-aeba-4420-88a5-d3d029e38458\"}; var _sift = window._sift = window._sift || []; _sift.push(['_setAccount', siftData.snippetKey]); _sift.push(['_setUserId', siftData.userId ? siftData.userId : '']); _sift.push(['_setSessionId', siftData.deviceSessionId]); _sift.push(['_trackPageview']); (function() { function ls() { var e = document.createElement('script'); e.src = 'https://cdn.siftscience.com/s.js'; e.nonce = \"a0uUVPdygbHQmr/MHy9UA9R/gx0=\"; document.body.appendChild(e); } if (window.attachEvent) { window.attachEvent('onload', ls); } else { window.addEventListener('load', ls, false); } })(); (function(i,s,o,g,r,a,m){i['ProfitWellObject']=r;i[r]=i[r]||function(){ (i[r].q=i[r].q||[]).push(arguments)},i[r].l=1*new Date();a=s.createElement(o), m=s.getElementsByTagName(o)[0];a.async=1;a.src=g;a.nonce=\"a0uUVPdygbHQmr/MHy9UA9R/gx0=\"; m.parentNode.insertBefore(a,m); })(window,document,'script','https://dna8twue3dlxq.cloudfront.net/js/profitwell.js','profitwell'); profitwell('auth_token', 'c63107e76120946aa3aed975436d94ae'); profitwell('user_id', null); (function(){window['__CF$cv$params']={r:'73e07e24fd6d8a02',m:'uF2FGqTbpwQKnrMma___QujvVhDJXEHEYIoyE61207A-1661054751-0-ActmBuInPKvyMqy0MZENHlnRCREv9novJR+GydZVbwt8w/DKSJrD5vTYNQeAZZ4opluOu2sen9JNUKvrkvxIvhBHiCbzGFSUxEh4pZiug2uuQL76rokgvPghUr1bnQOGUqKq5fOeFHaBYXCvxnfRSEY=',s:[0xe85af68ff4,0x8f1b9c2cb5],}})();"
      ],
      "text/plain": [
       "<IPython.core.display.HTML object>"
      ]
     },
     "execution_count": 117,
     "metadata": {},
     "output_type": "execute_result"
    }
   ],
   "source": [
    "HTML(src.html.text)"
   ]
  },
  {
   "cell_type": "code",
   "execution_count": 111,
   "id": "9dfe43c0",
   "metadata": {},
   "outputs": [
    {
     "data": {
      "text/html": [
       "window.dataLayer = [{\"visitorType\":\"visitor\",\"sessionType\":\"logged-out\"}]; (function(w,d,s,l,i){ w[l]=w[l]||[];w[l].push({'gtm.start':new Date().getTime(),event:'gtm.js'}); var f=d.getElementsByTagName(s)[0],j=d.createElement(s),dl=l!='dataLayer'?'&l='+l:'';j.async=true; j.src='https://www.googletagmanager.com/gtm.js?id='+i+dl; j.setAttribute('nonce',\"r16u6NI/F8T0BHzmygQi2+mWH9A=\"); f.parentNode.insertBefore(j,f); })(window,document,'script','dataLayer','GTM-TKT4VZ7');\n",
       "Search backend Classes - Skillshare\n",
       "var SS = {}; SS.serverBootstrap = {\"userData\":{\"id\":null,\"isAdmin\":0,\"picture\":\"\\u003Cimg src=\\\"https://static.skillshare.com/assets/images/default-profile-2020.jpg\\\" /\\u003E\",\"images\":{\"small\":\"https://static.skillshare.com/assets/images/default-profile-2020.jpg\",\"medium\":\"https://static.skillshare.com/assets/images/default-profile-2020.jpg\",\"large\":\"https://static.skillshare.com/assets/images/default-profile-2020.jpg\"},\"username\":0,\"fullName\":null,\"firstName\":null,\"email\":null,\"numFollowing\":0,\"numFollowers\":0,\"isMember\":0,\"isPremiumMember\":0,\"vanityUsername\":null,\"onsiteNotificationDetails\":{\"total\":0,\"hasUnread\":false},\"canGetPromotion\":1,\"is_teacher\":0,\"headline\":null,\"isTopTeacher\":false,\"profileUrl\":\"https://www.skillshare.com/profile/user/\",\"hasCanceled\":false},\"membershipData\":{\"numAvailableClasses\":\"39,623\",\"numFreeDays\":7},\"googleClientId\":\"267632956158-47nsffcfchc4s6c2pr6c14o43fie0ea1.apps.googleusercontent.com\",\"appleClientId\":\"com.skillshare.Skillshare.SignIn\",\"auth0\":{\"tenantDomain\":\"skillshare-production.us.auth0.com\",\"clientId\":\"gKF7MDIf13kpj1vMN5db7B6asHklmWd0\"},\"gRecaptcha\":{\"siteKey\":\"6Lc8E8AUAAAAAGh0V-pzleBls8xZpYnss3ojj88T\",\"requireRecaptcha\":false,\"requireSignupRecaptcha\":true},\"siteLocale\":\"en\",\"rewardsWebsocketUrl\":\"wss://fdh0102g7j.execute-api.us-east-1.amazonaws.com/prod\",\"staticAssetData\":{\"cdnHost\":\"static.skillshare.com\",\"imageBasePath\":\"/assets/images/\"},\"apiData\":{\"host\":\"https://www.skillshare.com\"},\"isMobileWeb\":false,\"videoThumbnailsBaseUrl\":\"https://static.skillshare.com/skillshare/uploads\",\"pricingDefaults\":{\"currencyCode\":\"usd\",\"countryCode\":\"US\",\"currencySymbol\":\"$\"},\"flags\":{\"and_brand_2020\":\"on\",\"android_internal_events\":\"on\",\"couponTool\":\"on\",\"gr_ios_device_trial_offer_parity\":\"month\",\"gr_ios_trial_offer_parity\":\"week\",\"gr_and_device_trial_offer_parity\":\"month\",\"gr_and_trial_offer_parity\":\"week\",\"ios_brand_2020\":\"on\",\"ios_internal_events\":\"on\",\"mo_prem_cta_09_2019\":\"on\",\"mo_skip_guest\":\"on\",\"mobile_hide_discover_tab\":\"on\",\"new_home_enabled\":\"on\",\"m9s_efw_refunds\":\"on\",\"gr_yt_ld\":\"on\",\"sft_role_writes\":\"on\",\"gr_tch_ref\":\"on\",\"lx_ios_trns_sbs_def\":\"on\",\"lx_ClassType_migration\":\"on\",\"gql_unsave_user_class\":\"on\",\"mar_cc_waitlist_anavictoria\":\"on\",\"intl_lang_sel\":\"default\",\"gr_ch_fq\":\"on\",\"lx_course_brandonwoelfel_waitlist\":\"on\",\"gr_hght_pr_bn\":\"on\",\"mar_cc_mp_aarondraplin\":\"on\",\"pl_agent\":\"on\",\"lx_captions_test\":\"off\",\"gql_register_ls_reminder\":\"on\",\"mo_and_recforyou\":\"on\",\"lx_cd_uiux\":\"off\",\"ent_cta_atf\":\"on\",\"lx_LOCD_redesign\":\"on\",\"learning_transcripts_tab\":\"default\",\"i18n_cmd_ft\":\"on\",\"lx_growth_vpdl\":\"off\",\"mo_ios_optin_multiprompts\":\"on\",\"learning_transcripts_editor_for_teachers\":\"on\",\"lx_and_trns_sbs_def\":\"on\",\"ent_lp_ms\":\"off\",\"mar_cc_dp_anavictoria\":\"on\",\"lx_course_acf\":\"on\",\"i18n_android\":\"on\",\"lx_cbc_dkng_2022_03_waitlist\":\"on\",\"lx_cc_lp\":\"on\",\"sec_csp\":\"off\",\"lx_course_jeffstaple_waitlist\":\"on\",\"mar_cc_dp_aarondraplin\":\"on\",\"intl_lang_sel_dev\":\"default\",\"gr_ch_cp_fd\":\"on\",\"lx_ios_ml_sbs\":\"on\",\"lx_cc_waitlist_holleymurchison\":\"on\",\"gr_and_pricing_9_21_21\":\"on\",\"sec_csp_enforce\":\"on\",\"mar_cc_waitlist_ohnmarwin\":\"on\",\"mo_ios_search_tab\":\"on\",\"lx_lp_cta_text\":\"on\",\"gr_loh_copy\":\"handsOn\",\"gr_loh_fll_rdsgn\":\"excluded\",\"lx_lp_row_funnel\":\"off\",\"gql_project_comments\":\"on\",\"lx_and_captions_test\":\"off\",\"gr_brws_bnrs\":\"excluded\",\"lx_and_jvban\":\"off\",\"disc_web_clsinf_hrchy\":\"on\",\"lx_cd_uiux_vp\":\"off\",\"i18n_ios\":\"on\",\"gr_trp\":\"on\",\"gr_ch_lk\":\"on\",\"disc_ios_no_monthly\":\"on\",\"mar_cc_waitlist_aarondraplin\":\"on\",\"disc_cls_imp_ks\":\"on\",\"gql_save_user_class\":\"on\",\"mo_and_checkout_guidelines\":\"on\",\"pl_ar_mr_switch\":\"on\",\"gql_livesession_query\":\"on\",\"ent_sft_cta_hdr\":\"off\",\"mo_and_myclasses_tab\":\"on\",\"lx_and_ml_sbs\":\"on\",\"disc_browse_menu_update\":\"on\",\"lx_cc_waitlist_tabithapark\":\"on\",\"mo_ios_recforyou2\":\"on\",\"pl_i18n_seo\":\"off\",\"mo_ios_asi\":\"on\",\"mo_ios_recforyou\":\"default\",\"gr_fb_tracker\":\"on\",\"gr_ab_prom\":\"default\",\"gr_tr_locd\":\"default\",\"mar_cc_waitlist_peggydean\":\"on\",\"mo_ios_myclasses_tab\":\"on\",\"lx_cbc_dkng_waitlist\":\"on\",\"mar_cc_mp_anavictoria\":\"on\",\"pl_i18n_web\":\"on\",\"mar_cc_lp_enroll\":\"on\",\"pl_a0_web\":\"off\",\"lx_course_catcoquillette_2022_04_waitlist\":\"on\",\"lx_vqs\":\"on\",\"mar_cc_mp_testimonials\":\"on\",\"learning_live_session_detail\":\"on\",\"gr_gql_project\":\"on\",\"gr_brws_mgr\":\"on\",\"lx_disable_autoplay_test\":\"on_muted_audio\",\"sft_role_reads\":\"on\",\"gql_complete_user_class\":\"on\",\"mar_cc_mp_enroll\":\"on\",\"lx_course_catcoquillette_waitlist\":\"on\",\"mo_ios_optin_modal\":\"on\",\"logs_to_sentry_and\":\"on\",\"gr_mui_auth\":\"off\"},\"requestSource\":\"web\",\"nonce\":\"r16u6NI/F8T0BHzmygQi2+mWH9A=\",\"signupPopupHeaderText\":\"Join Skillshare for Free\",\"signupPopupSubheaderText\":\"Explore your creativity with thousands of inspiring classes in design, illustration, photography, and more.\",\"bannerType\":\"DEFAULT\",\"tagData\":{\"tagId\":7409,\"userIsFollowingTag\":false},\"searchData\":{\"query\":\"backend\",\"relatedTagsData\":{\"tags\":[],\"showTags\":false}}}; SS.serverBootstrap.isClassDetails = false; // an array of pages to be require'd (page-specific deps) SS.pageDependencies = ['search\\x2Findex','common\\x2Ffooter'];\n",
       "Warning: Skillshare uses Javascript for some of its core functionality. It is highly recommended that you turn on Javascript in your preferences and reload the page.\n",
       "New members: get your first 7 days of Skillshare Premium for free! Click here to redeem\n",
       "Browse\n",
       "CREATE\n",
       "Animation\n",
       "Creative Writing\n",
       "Film & Video\n",
       "Fine Art\n",
       "Graphic Design\n",
       "Illustration\n",
       "Music\n",
       "Photography\n",
       "UI/UX Design\n",
       "Web Development\n",
       "BUILD\n",
       "Business Analytics\n",
       "Freelance & Entrepreneurship\n",
       "Leadership & Management\n",
       "Marketing\n",
       "THRIVE\n",
       "Lifestyle\n",
       "Productivity\n",
       "All Classes\n",
       "Student Projects\n",
       "Sign In\n",
       "Sign Up\n",
       "Sign In\n",
       "Home\n",
       "Browse\n",
       "Student Projects\n",
       "Company\n",
       "About\n",
       "Careers\n",
       "Press\n",
       "Blog\n",
       "Affiliates\n",
       "Partnerships\n",
       "Community\n",
       "Team Plans\n",
       "Refer a Friend\n",
       "Limited Memberships\n",
       "Scholarships\n",
       "Free Classes\n",
       "Teaching\n",
       "Become a Teacher\n",
       "Teacher Help Center\n",
       "Mobile\n",
       "Download_on_the_App_Store_Badge_US-UK_RGB_blk_4SVG_092917\n",
       "Download on the Google Play store\n",
       "image/svg+xml\n",
       "© Skillshare, Inc. 2022 Help Privacy Terms\n",
       "Company\n",
       "About\n",
       "Careers\n",
       "Press\n",
       "Blog\n",
       "Affiliates\n",
       "Partnerships\n",
       "Community\n",
       "Team Plans\n",
       "Refer a Friend\n",
       "Limited Memberships\n",
       "Scholarships\n",
       "Free Classes\n",
       "Teaching\n",
       "Become a Teacher\n",
       "Teacher Help Center\n",
       "Download_on_the_App_Store_Badge_US-UK_RGB_blk_4SVG_092917\n",
       "© Skillshare, Inc. 2022\n",
       "Help Privacy Terms\n",
       "SS.pageTrackingName = \"search\"; var siftData = {\"userId\":null,\"snippetKey\":\"ab315e4897\",\"deviceSessionId\":\"f98c2e9e-aeba-4420-88a5-d3d029e38458\"}; var _sift = window._sift = window._sift || []; _sift.push(['_setAccount', siftData.snippetKey]); _sift.push(['_setUserId', siftData.userId ? siftData.userId : '']); _sift.push(['_setSessionId', siftData.deviceSessionId]); _sift.push(['_trackPageview']); (function() { function ls() { var e = document.createElement('script'); e.src = 'https://cdn.siftscience.com/s.js'; e.nonce = \"r16u6NI/F8T0BHzmygQi2+mWH9A=\"; document.body.appendChild(e); } if (window.attachEvent) { window.attachEvent('onload', ls); } else { window.addEventListener('load', ls, false); } })(); (function(i,s,o,g,r,a,m){i['ProfitWellObject']=r;i[r]=i[r]||function(){ (i[r].q=i[r].q||[]).push(arguments)},i[r].l=1*new Date();a=s.createElement(o), m=s.getElementsByTagName(o)[0];a.async=1;a.src=g;a.nonce=\"r16u6NI/F8T0BHzmygQi2+mWH9A=\"; m.parentNode.insertBefore(a,m); })(window,document,'script','https://dna8twue3dlxq.cloudfront.net/js/profitwell.js','profitwell'); profitwell('auth_token', 'c63107e76120946aa3aed975436d94ae'); profitwell('user_id', null); (function(){window['__CF$cv$params']={r:'73dfc2199dd98e7b',m:'_sc_.8EuVRymIZzZD.n49MAh7uvh6PwCIfKK9cVSggY-1661047050-0-AWSuxfX3nqqKY+7xtrSDI7/5RZPwkVqY9jXapkwDdO6FAri8YsU2tYjJQU55YxCyZcuPHKp84KPE7jWXmgHlD464+hao0duR0KMcQ3qtZp1+RcgHpE4MBSS2MCN6iY/HnHZGDGj/AKoJY/87aFPwt3I=',s:[0x97bb772303,0x286a33a75a],}})();"
      ],
      "text/plain": [
       "<IPython.core.display.HTML object>"
      ]
     },
     "execution_count": 111,
     "metadata": {},
     "output_type": "execute_result"
    }
   ],
   "source": [
    "HTML(src.html.text)"
   ]
  },
  {
   "cell_type": "code",
   "execution_count": 113,
   "id": "3fe93882",
   "metadata": {},
   "outputs": [],
   "source": [
    "import cloudscraper"
   ]
  },
  {
   "cell_type": "code",
   "execution_count": 114,
   "id": "cd6bcfcf",
   "metadata": {},
   "outputs": [
    {
     "name": "stderr",
     "output_type": "stream",
     "text": [
      "2022-08-21 07:37:42 [urllib3.connectionpool] DEBUG: Starting new HTTPS connection (1): www.skillshare.com:443\n",
      "2022-08-21 07:37:42 [urllib3.connectionpool] DEBUG: https://www.skillshare.com:443 \"GET /search?query=backend HTTP/1.1\" 200 None\n"
     ]
    }
   ],
   "source": [
    "scraper = cloudscraper.create_scraper()    # CloudScraper inherits from requests.Session\n",
    "ans = scraper.get(\"https://www.skillshare.com/search?query=backend\").text"
   ]
  },
  {
   "cell_type": "code",
   "execution_count": 166,
   "id": "1baff202",
   "metadata": {},
   "outputs": [
    {
     "name": "stderr",
     "output_type": "stream",
     "text": [
      "2022-08-21 11:43:50 [py.warnings] WARNING: /var/folders/z0/3wnllnrs2d51mtx4yf5ydzf40000gn/T/ipykernel_8426/3841905347.py:4: DeprecationWarning: executable_path has been deprecated, please pass in a Service object\n",
      "  driver = webdriver.Chrome(executable_path=DRIVER_PATH)\n",
      "\n",
      "2022-08-21 11:43:51 [selenium.webdriver.remote.remote_connection] DEBUG: POST http://localhost:54244/session {\"capabilities\": {\"firstMatch\": [{}], \"alwaysMatch\": {\"browserName\": \"chrome\", \"pageLoadStrategy\": \"normal\", \"goog:chromeOptions\": {\"extensions\": [], \"args\": []}}}}\n",
      "2022-08-21 11:43:51 [urllib3.connectionpool] DEBUG: Starting new HTTP connection (1): localhost:54244\n",
      "2022-08-21 11:43:52 [urllib3.connectionpool] DEBUG: http://localhost:54244 \"POST /session HTTP/1.1\" 200 801\n",
      "2022-08-21 11:43:52 [selenium.webdriver.remote.remote_connection] DEBUG: Remote response: status=200 | data={\"value\":{\"capabilities\":{\"acceptInsecureCerts\":false,\"browserName\":\"chrome\",\"browserVersion\":\"104.0.5112.101\",\"chrome\":{\"chromedriverVersion\":\"104.0.5112.79 (3cf3e8c8a07d104b9e1260c910efb8f383285dc5-refs/branch-heads/5112@{#1307})\",\"userDataDir\":\"/var/folders/z0/3wnllnrs2d51mtx4yf5ydzf40000gn/T/.com.google.Chrome.aNw1lY\"},\"goog:chromeOptions\":{\"debuggerAddress\":\"localhost:54257\"},\"networkConnectionEnabled\":false,\"pageLoadStrategy\":\"normal\",\"platformName\":\"mac os x\",\"proxy\":{},\"setWindowRect\":true,\"strictFileInteractability\":false,\"timeouts\":{\"implicit\":0,\"pageLoad\":300000,\"script\":30000},\"unhandledPromptBehavior\":\"dismiss and notify\",\"webauthn:extension:credBlob\":true,\"webauthn:extension:largeBlob\":true,\"webauthn:virtualAuthenticators\":true},\"sessionId\":\"7e3319c9a702d8ae0917d68959bba9ab\"}} | headers=HTTPHeaderDict({'Content-Length': '801', 'Content-Type': 'application/json; charset=utf-8', 'cache-control': 'no-cache'})\n",
      "2022-08-21 11:43:52 [selenium.webdriver.remote.remote_connection] DEBUG: Finished Request\n",
      "2022-08-21 11:43:52 [selenium.webdriver.remote.remote_connection] DEBUG: POST http://localhost:54244/session/7e3319c9a702d8ae0917d68959bba9ab/url {\"url\": \"https://www.skillshare.com/search?query=fullstack\"}\n",
      "2022-08-21 11:43:57 [urllib3.connectionpool] DEBUG: http://localhost:54244 \"POST /session/7e3319c9a702d8ae0917d68959bba9ab/url HTTP/1.1\" 200 14\n",
      "2022-08-21 11:43:57 [selenium.webdriver.remote.remote_connection] DEBUG: Remote response: status=200 | data={\"value\":null} | headers=HTTPHeaderDict({'Content-Length': '14', 'Content-Type': 'application/json; charset=utf-8', 'cache-control': 'no-cache'})\n",
      "2022-08-21 11:43:57 [selenium.webdriver.remote.remote_connection] DEBUG: Finished Request\n"
     ]
    }
   ],
   "source": [
    "from selenium import webdriver\n",
    "\n",
    "DRIVER_PATH = '/Users/aman/Downloads/chromedriver'\n",
    "driver = webdriver.Chrome(executable_path=DRIVER_PATH)\n",
    "driver.get('https://www.skillshare.com/search?query=fullstack')"
   ]
  },
  {
   "cell_type": "code",
   "execution_count": 167,
   "id": "d4d637d5",
   "metadata": {},
   "outputs": [],
   "source": [
    "from selenium.webdriver.common.by import By"
   ]
  },
  {
   "cell_type": "code",
   "execution_count": 168,
   "id": "839fe203",
   "metadata": {},
   "outputs": [
    {
     "name": "stderr",
     "output_type": "stream",
     "text": [
      "2022-08-21 11:44:00 [selenium.webdriver.remote.remote_connection] DEBUG: POST http://localhost:54244/session/7e3319c9a702d8ae0917d68959bba9ab/element {\"using\": \"css selector\", \"value\": \"#page-wrapper > div > div > div.jss40 > div.class-cards.sc-hzDkRC.hzdpDh > div > div > div.class-cards-container\"}\n",
      "2022-08-21 11:44:00 [urllib3.connectionpool] DEBUG: http://localhost:54244 \"POST /session/7e3319c9a702d8ae0917d68959bba9ab/element HTTP/1.1\" 200 88\n",
      "2022-08-21 11:44:00 [selenium.webdriver.remote.remote_connection] DEBUG: Remote response: status=200 | data={\"value\":{\"element-6066-11e4-a52e-4f735466cecf\":\"9a2ef2ee-5599-47e9-a7b8-a1b1c1eb853f\"}} | headers=HTTPHeaderDict({'Content-Length': '88', 'Content-Type': 'application/json; charset=utf-8', 'cache-control': 'no-cache'})\n",
      "2022-08-21 11:44:00 [selenium.webdriver.remote.remote_connection] DEBUG: Finished Request\n"
     ]
    }
   ],
   "source": [
    "path = '#page-wrapper > div > div > div.jss40 > div.class-cards.sc-hzDkRC.hzdpDh > div > div > div.class-cards-container'\n",
    "players = driver.find_element(By.CSS_SELECTOR, path)"
   ]
  },
  {
   "cell_type": "code",
   "execution_count": 169,
   "id": "c4401535",
   "metadata": {},
   "outputs": [
    {
     "name": "stderr",
     "output_type": "stream",
     "text": [
      "2022-08-21 11:44:02 [selenium.webdriver.remote.remote_connection] DEBUG: GET http://localhost:54244/session/7e3319c9a702d8ae0917d68959bba9ab/element/9a2ef2ee-5599-47e9-a7b8-a1b1c1eb853f/text {\"id\": \"9a2ef2ee-5599-47e9-a7b8-a1b1c1eb853f\"}\n",
      "2022-08-21 11:44:02 [urllib3.connectionpool] DEBUG: http://localhost:54244 \"GET /session/7e3319c9a702d8ae0917d68959bba9ab/element/9a2ef2ee-5599-47e9-a7b8-a1b1c1eb853f/text HTTP/1.1\" 200 2773\n",
      "2022-08-21 11:44:02 [selenium.webdriver.remote.remote_connection] DEBUG: Remote response: status=200 | data={\"value\":\"Full Stack Web Development for Beginners- Part 4: Final Project, Node, Express & MongoDB\\n1,813 students\\n10h 6m\\nFull Stack Web Development for Beginners- Part 4: Final Project, Node, Express & MongoDB\\nChris Dixon\\nVue.js: Build a Full Stack App With Firebase, Vuex & Vue Router\\n705 students\\n5h 35m\\nVue.js: Build a Full Stack App With Firebase, Vuex & Vue Router\\nChris Dixon\\nFull Stack Web Development for Beginners- Part 1: HTML, CSS, Responsive Design\\n11,857 students\\n5h 36m\\nFull Stack Web Development for Beginners- Part 1: HTML, CSS, Responsive Design\\nChris Dixon\\nFull Stack Web Development for Beginners- Part 2: Flexbox, CSS Grid and Bootstrap 4\\n2,877 students\\n2h 59m\\nFull Stack Web Development for Beginners- Part 2: Flexbox, CSS Grid and Bootstrap 4\\nChris Dixon\\nFull Stack Web Development for Beginners- Part 3: Javascript and API'S\\n2,697 students\\n5h 38m\\nFull Stack Web Development for Beginners- Part 3: Javascript and API'S\\nChris Dixon\\nThe Complete Full-Stack JavaScript Course!\\n1,648 students\\n24h 16m\\nThe Complete Full-Stack JavaScript Course!\\nJoseph Delgadillo\\nFull Stack Web Development for beginners ( 100+ Challenges )\\n699 students\\n15h 18m\\nFull Stack Web Development for beginners ( 100+ Challenges )\\nGancho Radkov\\nFull Stack Web Developer in 2022: Java, Spring Boot, MySQL, Docker\\n471 students\\n7h 16m\\nFull Stack Web Developer in 2022: Java, Spring Boot, MySQL, Docker\\nAlexandru Rosu\\nLearn Future Technologies of Web Development in 2021 Beginner To Advance - Be A Full Stack Developer\\n405 students\\n3h 20m\\nLearn Future Technologies of Web Development in 2021 Beginner To Advance - Be A Full Stack Developer\\nWaqas Ahmad\\nBuild a FullStack Application with MERN - Part 1\\n337 students\\n1h 9m\\nBuild a FullStack Application with MERN - Part 1\\nSandra L\\nFull Stack Web Developer in 2022: Java, Spring Boot, Angular, Typescript\\n132 students\\n1h 49m\\nFull Stack Web Developer in 2022: Java, Spring Boot, Angular, Typescript\\nAlexandru Rosu\\nFull-stack Blog using Next.js & GraphCms\\n116 students\\n1h 53m\\nFull-stack Blog using Next.js & GraphCms\\nAtlas Coding\\nJAVA, Spring Boot, HTML, CSS, Bootstrap - Full Stack Web App development for BEGINNERS - 2021\\n91 students\\n39m\\nJAVA, Spring Boot, HTML, CSS, Bootstrap - Full Stack Web App development for BEGINNERS - 2021\\nHaroon Abdul Hakkim\\nBuild & Deploy Full Stack MERN Application | Redux-Toolkit | Auth, CRUD, Like, Search & Pagination\\n84 students\\n7h 54m\\nBuild & Deploy Full Stack MERN Application | Redux-Toolkit | Auth, CRUD, Like, Search & Pagination\\nSaumitra Vishal\\nFull Stack Web Development MASTERY Class - Beginner to Advanced (2022)\\n74 students\\n52h 50m\\nFull Stack Web Development MASTERY Class - Beginner to Advanced (2022)\\nPrerak Mehta\\n  \"} | headers=HTTPHeaderDict({'Content-Length': '2773', 'Content-Type': 'application/json; charset=utf-8', 'cache-control': 'no-cache'})\n",
      "2022-08-21 11:44:02 [selenium.webdriver.remote.remote_connection] DEBUG: Finished Request\n"
     ]
    }
   ],
   "source": [
    "ss = players.text.split('\\n')"
   ]
  },
  {
   "cell_type": "code",
   "execution_count": 170,
   "id": "2cb1d2f5",
   "metadata": {},
   "outputs": [
    {
     "data": {
      "text/plain": [
       "['Full Stack Web Development for Beginners- Part 4: Final Project, Node, Express & MongoDB',\n",
       " '1,813 students',\n",
       " '10h 6m',\n",
       " 'Full Stack Web Development for Beginners- Part 4: Final Project, Node, Express & MongoDB',\n",
       " 'Chris Dixon',\n",
       " 'Vue.js: Build a Full Stack App With Firebase, Vuex & Vue Router',\n",
       " '705 students',\n",
       " '5h 35m',\n",
       " 'Vue.js: Build a Full Stack App With Firebase, Vuex & Vue Router',\n",
       " 'Chris Dixon',\n",
       " 'Full Stack Web Development for Beginners- Part 1: HTML, CSS, Responsive Design',\n",
       " '11,857 students',\n",
       " '5h 36m',\n",
       " 'Full Stack Web Development for Beginners- Part 1: HTML, CSS, Responsive Design',\n",
       " 'Chris Dixon',\n",
       " 'Full Stack Web Development for Beginners- Part 2: Flexbox, CSS Grid and Bootstrap 4',\n",
       " '2,877 students',\n",
       " '2h 59m',\n",
       " 'Full Stack Web Development for Beginners- Part 2: Flexbox, CSS Grid and Bootstrap 4',\n",
       " 'Chris Dixon',\n",
       " \"Full Stack Web Development for Beginners- Part 3: Javascript and API'S\",\n",
       " '2,697 students',\n",
       " '5h 38m',\n",
       " \"Full Stack Web Development for Beginners- Part 3: Javascript and API'S\",\n",
       " 'Chris Dixon',\n",
       " 'The Complete Full-Stack JavaScript Course!',\n",
       " '1,648 students',\n",
       " '24h 16m',\n",
       " 'The Complete Full-Stack JavaScript Course!',\n",
       " 'Joseph Delgadillo',\n",
       " 'Full Stack Web Development for beginners ( 100+ Challenges )',\n",
       " '699 students',\n",
       " '15h 18m',\n",
       " 'Full Stack Web Development for beginners ( 100+ Challenges )',\n",
       " 'Gancho Radkov',\n",
       " 'Full Stack Web Developer in 2022: Java, Spring Boot, MySQL, Docker',\n",
       " '471 students',\n",
       " '7h 16m',\n",
       " 'Full Stack Web Developer in 2022: Java, Spring Boot, MySQL, Docker',\n",
       " 'Alexandru Rosu',\n",
       " 'Learn Future Technologies of Web Development in 2021 Beginner To Advance - Be A Full Stack Developer',\n",
       " '405 students',\n",
       " '3h 20m',\n",
       " 'Learn Future Technologies of Web Development in 2021 Beginner To Advance - Be A Full Stack Developer',\n",
       " 'Waqas Ahmad',\n",
       " 'Build a FullStack Application with MERN - Part 1',\n",
       " '337 students',\n",
       " '1h 9m',\n",
       " 'Build a FullStack Application with MERN - Part 1',\n",
       " 'Sandra L',\n",
       " 'Full Stack Web Developer in 2022: Java, Spring Boot, Angular, Typescript',\n",
       " '132 students',\n",
       " '1h 49m',\n",
       " 'Full Stack Web Developer in 2022: Java, Spring Boot, Angular, Typescript',\n",
       " 'Alexandru Rosu',\n",
       " 'Full-stack Blog using Next.js & GraphCms',\n",
       " '116 students',\n",
       " '1h 53m',\n",
       " 'Full-stack Blog using Next.js & GraphCms',\n",
       " 'Atlas Coding',\n",
       " 'JAVA, Spring Boot, HTML, CSS, Bootstrap - Full Stack Web App development for BEGINNERS - 2021',\n",
       " '91 students',\n",
       " '39m',\n",
       " 'JAVA, Spring Boot, HTML, CSS, Bootstrap - Full Stack Web App development for BEGINNERS - 2021',\n",
       " 'Haroon Abdul Hakkim',\n",
       " 'Build & Deploy Full Stack MERN Application | Redux-Toolkit | Auth, CRUD, Like, Search & Pagination',\n",
       " '84 students',\n",
       " '7h 54m',\n",
       " 'Build & Deploy Full Stack MERN Application | Redux-Toolkit | Auth, CRUD, Like, Search & Pagination',\n",
       " 'Saumitra Vishal',\n",
       " 'Full Stack Web Development MASTERY Class - Beginner to Advanced (2022)',\n",
       " '74 students',\n",
       " '52h 50m',\n",
       " 'Full Stack Web Development MASTERY Class - Beginner to Advanced (2022)',\n",
       " 'Prerak Mehta',\n",
       " '  ']"
      ]
     },
     "execution_count": 170,
     "metadata": {},
     "output_type": "execute_result"
    }
   ],
   "source": [
    "ss"
   ]
  },
  {
   "cell_type": "code",
   "execution_count": 160,
   "id": "a74b2773",
   "metadata": {
    "scrolled": true
   },
   "outputs": [
    {
     "name": "stderr",
     "output_type": "stream",
     "text": [
      "2022-08-21 11:40:10 [selenium.webdriver.remote.remote_connection] DEBUG: POST http://localhost:65358/session/df709c97b85fa81250834efd0ae9a58a/element/2b306f35-cb94-40f7-8cab-639d39efbf68/element {\"using\": \"css selector\", \"value\": \"#page-wrapper > div > div > div.jss40 > div.class-cards.sc-hzDkRC.hzdpDh > div > div > div.class-cards-container > div:nth-child(1)\", \"id\": \"2b306f35-cb94-40f7-8cab-639d39efbf68\"}\n",
      "2022-08-21 11:40:10 [urllib3.connectionpool] DEBUG: http://localhost:65358 \"POST /session/df709c97b85fa81250834efd0ae9a58a/element/2b306f35-cb94-40f7-8cab-639d39efbf68/element HTTP/1.1\" 200 88\n",
      "2022-08-21 11:40:10 [selenium.webdriver.remote.remote_connection] DEBUG: Remote response: status=200 | data={\"value\":{\"element-6066-11e4-a52e-4f735466cecf\":\"84fba72e-22ab-406e-8c4f-790769e98d7f\"}} | headers=HTTPHeaderDict({'Content-Length': '88', 'Content-Type': 'application/json; charset=utf-8', 'cache-control': 'no-cache'})\n",
      "2022-08-21 11:40:10 [selenium.webdriver.remote.remote_connection] DEBUG: Finished Request\n"
     ]
    }
   ],
   "source": [
    "pp = players.find_element(By.CSS_SELECTOR, '#page-wrapper > div > div > div.jss40 > div.class-cards.sc-hzDkRC.hzdpDh > div > div > div.class-cards-container > div:nth-child(1)')"
   ]
  },
  {
   "cell_type": "code",
   "execution_count": null,
   "id": "52571ec4",
   "metadata": {},
   "outputs": [],
   "source": [
    "ss"
   ]
  },
  {
   "cell_type": "code",
   "execution_count": 162,
   "id": "f7fa8546",
   "metadata": {},
   "outputs": [
    {
     "name": "stderr",
     "output_type": "stream",
     "text": [
      "2022-08-21 11:40:15 [selenium.webdriver.remote.remote_connection] DEBUG: GET http://localhost:65358/session/df709c97b85fa81250834efd0ae9a58a/element/84fba72e-22ab-406e-8c4f-790769e98d7f/text {\"id\": \"84fba72e-22ab-406e-8c4f-790769e98d7f\"}\n",
      "2022-08-21 11:40:15 [urllib3.connectionpool] DEBUG: http://localhost:65358 \"GET /session/df709c97b85fa81250834efd0ae9a58a/element/84fba72e-22ab-406e-8c4f-790769e98d7f/text HTTP/1.1\" 200 158\n",
      "2022-08-21 11:40:15 [selenium.webdriver.remote.remote_connection] DEBUG: Remote response: status=200 | data={\"value\":\"Node, SQL, & PostgreSQL - Backend Web Development [1/2]\\n738 students\\n2h 10m\\nNode, SQL, & PostgreSQL - Backend Web Development [1/2]\\nDavid Katz\"} | headers=HTTPHeaderDict({'Content-Length': '158', 'Content-Type': 'application/json; charset=utf-8', 'cache-control': 'no-cache'})\n",
      "2022-08-21 11:40:15 [selenium.webdriver.remote.remote_connection] DEBUG: Finished Request\n"
     ]
    },
    {
     "data": {
      "text/plain": [
       "'Node, SQL, & PostgreSQL - Backend Web Development [1/2]\\n738 students\\n2h 10m\\nNode, SQL, & PostgreSQL - Backend Web Development [1/2]\\nDavid Katz'"
      ]
     },
     "execution_count": 162,
     "metadata": {},
     "output_type": "execute_result"
    }
   ],
   "source": [
    "pp.text"
   ]
  },
  {
   "cell_type": "code",
   "execution_count": null,
   "id": "d9a63b9e",
   "metadata": {},
   "outputs": [],
   "source": []
  }
 ],
 "metadata": {
  "kernelspec": {
   "display_name": "Python 3 (ipykernel)",
   "language": "python",
   "name": "python3"
  },
  "language_info": {
   "codemirror_mode": {
    "name": "ipython",
    "version": 3
   },
   "file_extension": ".py",
   "mimetype": "text/x-python",
   "name": "python",
   "nbconvert_exporter": "python",
   "pygments_lexer": "ipython3",
   "version": "3.8.9"
  }
 },
 "nbformat": 4,
 "nbformat_minor": 5
}
